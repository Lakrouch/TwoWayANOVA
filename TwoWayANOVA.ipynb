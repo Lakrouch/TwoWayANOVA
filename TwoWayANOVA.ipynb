{
 "cells": [
  {
   "cell_type": "code",
   "execution_count": 1,
   "metadata": {},
   "outputs": [],
   "source": [
    "import scipy as sp\n",
    "import pandas as pd\n",
    "import matplotlib"
   ]
  },
  {
   "cell_type": "code",
   "execution_count": 2,
   "metadata": {},
   "outputs": [],
   "source": [
    "data = pd.read_csv('atherosclerosis.csv')"
   ]
  },
  {
   "cell_type": "code",
   "execution_count": 3,
   "metadata": {},
   "outputs": [],
   "source": [
    "factors_age = [1,2]\n",
    "factors_dose =['D1','D2']"
   ]
  },
  {
   "cell_type": "code",
   "execution_count": 4,
   "metadata": {},
   "outputs": [],
   "source": [
    "mean_1_D1 = data[(data['age']==1)&(data['dose']=='D1')].expr.mean()\n",
    "mean_1_D2 = data[(data['age']==1)&(data['dose']=='D2')].expr.mean()\n",
    "mean_2_D1 = data[(data['age']==2)&(data['dose']=='D1')].expr.mean()\n",
    "mean_2_D2 = data[(data['age']==2)&(data['dose']=='D2')].expr.mean()\n",
    "mean_1_average = (mean_1_D1+mean_1_D2)/2\n",
    "mean_2_average = (mean_2_D1+mean_2_D2)/2\n",
    "mean_D1_average = (mean_1_D1+mean_2_D1)/2\n",
    "mean_D2_average  = (mean_1_D2+mean_2_D2)/2\n",
    "means_average = [mean_1_D1, mean_2_D2, mean_1_D1, mean_2_D2]\n",
    "marginal_mean =  (mean_1_average+mean_2_average)/2"
   ]
  },
  {
   "cell_type": "code",
   "execution_count": 5,
   "metadata": {},
   "outputs": [],
   "source": [
    "SSF_1 = len(data[data['age']==1])*(mean_1_average - marginal_mean)**2\n",
    "SSF_2 = len(data[data['age']==2])*(mean_2_average - marginal_mean)**2\n",
    "SSF_age = SSF_1 + SSF_2"
   ]
  },
  {
   "cell_type": "code",
   "execution_count": 6,
   "metadata": {},
   "outputs": [],
   "source": [
    "SSF_D1 = len(data[data['dose']=='D1'])*(mean_D1_average - marginal_mean)**2\n",
    "SSF_D2 = len(data[data['dose']=='D2'])*(mean_D2_average - marginal_mean)**2\n",
    "SSF_expr = SSF_D1 + SSF_D2"
   ]
  },
  {
   "cell_type": "code",
   "execution_count": 7,
   "metadata": {},
   "outputs": [],
   "source": [
    "c = 0\n",
    "SSW = 0\n",
    "for a in range(2):\n",
    "    for b in range(2):\n",
    "        c = a+b\n",
    "        if (a==1):\n",
    "            c+=1\n",
    "        SSW += sum((data[(data['age'] == factors_age[a]) & (data['dose']==factors_dose[b])].expr\n",
    "                   -means_average[c])**2)"
   ]
  },
  {
   "cell_type": "code",
   "execution_count": 8,
   "metadata": {},
   "outputs": [],
   "source": [
    "SST = sum((data['expr']-marginal_mean)**2)"
   ]
  },
  {
   "cell_type": "code",
   "execution_count": 9,
   "metadata": {},
   "outputs": [],
   "source": [
    "SSB = SST-SSF_age-SSF_expr-SSW"
   ]
  },
  {
   "cell_type": "code",
   "execution_count": 10,
   "metadata": {},
   "outputs": [],
   "source": [
    "df_SSF_age = 1\n",
    "df_SSF_expr = 1\n",
    "df_SSW = len(data)-4\n",
    "df_SSB = 1\n",
    "df_SST = 64-4+1"
   ]
  },
  {
   "cell_type": "code",
   "execution_count": 11,
   "metadata": {},
   "outputs": [],
   "source": [
    "mean_sq_SSW = SSW/df_SSW"
   ]
  },
  {
   "cell_type": "code",
   "execution_count": null,
   "metadata": {},
   "outputs": [],
   "source": []
  },
  {
   "cell_type": "code",
   "execution_count": 16,
   "metadata": {},
   "outputs": [],
   "source": [
    "total_df=pd.DataFrame(data={'Df':[df_SSF_age, df_SSF_expr,df_SST], 'Sum sq':[SSF_age, SSF_expr, SST], \n",
    "               'Mean sq':[SSF_age/df_SSF_age, SSF_expr/df_SSF_expr, SST/df_SST], \n",
    "                            'F':[SSF_age/mean_sq_SSW,SSF_expr/mean_sq_SSW, '-'],'P': [0.00631, 0.605, '-']})"
   ]
  },
  {
   "cell_type": "code",
   "execution_count": 15,
   "metadata": {},
   "outputs": [
    {
     "data": {
      "text/html": [
       "<div>\n",
       "<style scoped>\n",
       "    .dataframe tbody tr th:only-of-type {\n",
       "        vertical-align: middle;\n",
       "    }\n",
       "\n",
       "    .dataframe tbody tr th {\n",
       "        vertical-align: top;\n",
       "    }\n",
       "\n",
       "    .dataframe thead th {\n",
       "        text-align: right;\n",
       "    }\n",
       "</style>\n",
       "<table border=\"1\" class=\"dataframe\">\n",
       "  <thead>\n",
       "    <tr style=\"text-align: right;\">\n",
       "      <th></th>\n",
       "      <th>Df</th>\n",
       "      <th>Sum sq</th>\n",
       "      <th>Mean sq</th>\n",
       "      <th>F</th>\n",
       "      <th>P</th>\n",
       "    </tr>\n",
       "  </thead>\n",
       "  <tbody>\n",
       "    <tr>\n",
       "      <th>0</th>\n",
       "      <td>1</td>\n",
       "      <td>197.452754</td>\n",
       "      <td>197.452754</td>\n",
       "      <td>5.96229</td>\n",
       "      <td>0.0631</td>\n",
       "    </tr>\n",
       "    <tr>\n",
       "      <th>1</th>\n",
       "      <td>1</td>\n",
       "      <td>16.912241</td>\n",
       "      <td>16.912241</td>\n",
       "      <td>0.510682</td>\n",
       "      <td>0.605</td>\n",
       "    </tr>\n",
       "    <tr>\n",
       "      <th>2</th>\n",
       "      <td>61</td>\n",
       "      <td>1805.549496</td>\n",
       "      <td>29.599172</td>\n",
       "      <td>-</td>\n",
       "      <td>-</td>\n",
       "    </tr>\n",
       "  </tbody>\n",
       "</table>\n",
       "</div>"
      ],
      "text/plain": [
       "   Df       Sum sq     Mean sq         F       P\n",
       "0   1   197.452754  197.452754   5.96229  0.0631\n",
       "1   1    16.912241   16.912241  0.510682   0.605\n",
       "2  61  1805.549496   29.599172         -       -"
      ]
     },
     "execution_count": 15,
     "metadata": {},
     "output_type": "execute_result"
    }
   ],
   "source": [
    "total_df"
   ]
  }
 ],
 "metadata": {
  "kernelspec": {
   "display_name": "Python 3",
   "language": "python",
   "name": "python3"
  },
  "language_info": {
   "codemirror_mode": {
    "name": "ipython",
    "version": 3
   },
   "file_extension": ".py",
   "mimetype": "text/x-python",
   "name": "python",
   "nbconvert_exporter": "python",
   "pygments_lexer": "ipython3",
   "version": "3.7.3"
  }
 },
 "nbformat": 4,
 "nbformat_minor": 2
}
